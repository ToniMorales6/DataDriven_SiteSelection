{
 "cells": [
  {
   "cell_type": "code",
   "execution_count": 1,
   "id": "d55aa46c-53a6-4775-8a20-0670737a69ac",
   "metadata": {},
   "outputs": [
    {
     "name": "stdout",
     "output_type": "stream",
     "text": [
      "Mapas y tabla de resultados generados:\n",
      "Mapas/average_rent.html\n",
      "Mapas/heat_map.html\n",
      "Resultado/average_rent_results.csv\n"
     ]
    }
   ],
   "source": [
    "import pandas as pd\n",
    "import geopandas as gpd\n",
    "from shapely.geometry import Point, Polygon\n",
    "import folium\n",
    "from folium.plugins import HeatMap\n",
    "\n",
    "# Cargar los datos de las secciones censales con la renta\n",
    "secciones_censales = gpd.read_file('secciones_censales_barcelona.geojson')\n",
    "secciones_censales = secciones_censales[['codi_districte', 'codi_barri', 'codi_seccio_censal', 'Import_Euros', 'geometry']]\n",
    "\n",
    "# Cargar los puntos de referencia\n",
    "refpoints = gpd.read_file('hundredpoints.geojson')\n",
    "\n",
    "# Establecer el mismo sistema de referencia de coordenadas (CRS) para ambos GeoDataFrames\n",
    "secciones_censales.set_crs(epsg=4326, inplace=True)\n",
    "refpoints.set_crs(epsg=4326, inplace=True)\n",
    "\n",
    "# Convertir el CRS a uno adecuado para los cálculos de distancia\n",
    "secciones_censales = secciones_censales.to_crs(epsg=3857)\n",
    "refpoints = refpoints.to_crs(epsg=3857)\n",
    "\n",
    "# Crear una lista para almacenar las rentas promedio y buffers\n",
    "avg_rent_list = []\n",
    "\n",
    "# Calcular la renta promedio dentro de un radio de 750 metros para cada punto\n",
    "for idx, point in refpoints.iterrows():\n",
    "    buffer_geom = point['geometry'].buffer(750)  # Buffer de 750 metros\n",
    "    seccions_in_buffer = secciones_censales[secciones_censales.geometry.intersects(buffer_geom)]\n",
    "    avg_rent = seccions_in_buffer['Import_Euros'].mean()\n",
    "    avg_rent_list.append({'geometry': point['geometry'].centroid, 'avg_rent': round(avg_rent, 2), 'index': idx})\n",
    "\n",
    "# Convertir avg_rent_list a GeoDataFrame\n",
    "results_df = pd.DataFrame(avg_rent_list)\n",
    "results_gdf = gpd.GeoDataFrame(results_df, geometry='geometry')\n",
    "\n",
    "# Establecer el CRS para el GeoDataFrame de resultados\n",
    "results_gdf.set_crs(epsg=3857, inplace=True)\n",
    "\n",
    "# Reproyectar de nuevo a WGS 84 para visualización\n",
    "results_gdf = results_gdf.to_crs(epsg=4326)\n",
    "\n",
    "# Crear un mapa centrado en la media de la longitud y latitud de los puntos de referencia\n",
    "map_center = [results_gdf.geometry.y.mean(), results_gdf.geometry.x.mean()]\n",
    "m = folium.Map(location=map_center, zoom_start=12)\n",
    "\n",
    "# Añadir los puntos y las rentas promedio al mapa\n",
    "for idx, row in results_gdf.iterrows():\n",
    "    folium.Marker(\n",
    "        location=[row.geometry.y, row.geometry.x],\n",
    "        popup=f'Avg Rent: {row[\"avg_rent\"]}',\n",
    "        tooltip=row[\"avg_rent\"]\n",
    "    ).add_to(m)\n",
    "\n",
    "# Crear un mapa de calor ajustando los colores para visualizar mejor las diferencias\n",
    "heat_data = [[row.geometry.y, row.geometry.x, row['avg_rent']] for idx, row in results_gdf.iterrows()]\n",
    "heat_map = folium.Map(location=map_center, zoom_start=12)\n",
    "\n",
    "# Ajuste de los colores del mapa de calor\n",
    "HeatMap(heat_data, min_opacity=0.3, max_zoom=18, radius=15, blur=15, max_value=results_df['avg_rent'].max(),\n",
    "        gradient={0.2: 'blue', 0.4: 'lime', 0.6: 'yellow', 0.8: 'orange', 1.0: 'red'}).add_to(heat_map)\n",
    "\n",
    "# Guardar los mapas en archivos HTML\n",
    "map_path = 'Mapas/average_rent.html'\n",
    "heatmap_path = 'Mapas/heat_map.html'\n",
    "results_csv_path = 'Resultado/average_rent_results.csv'\n",
    "\n",
    "m.save(map_path)\n",
    "heat_map.save(heatmap_path)\n",
    "\n",
    "# Guardar la tabla de resultados en un archivo CSV\n",
    "results_df.to_csv(results_csv_path, index=False)\n",
    "\n",
    "print('Mapas y tabla de resultados generados:')\n",
    "print(map_path)\n",
    "print(heatmap_path)\n",
    "print(results_csv_path)\n"
   ]
  },
  {
   "cell_type": "code",
   "execution_count": null,
   "id": "b79ce133-0695-4730-9123-f6fc6f555a34",
   "metadata": {},
   "outputs": [],
   "source": []
  }
 ],
 "metadata": {
  "kernelspec": {
   "display_name": "Python 3 (ipykernel)",
   "language": "python",
   "name": "python3"
  },
  "language_info": {
   "codemirror_mode": {
    "name": "ipython",
    "version": 3
   },
   "file_extension": ".py",
   "mimetype": "text/x-python",
   "name": "python",
   "nbconvert_exporter": "python",
   "pygments_lexer": "ipython3",
   "version": "3.12.4"
  }
 },
 "nbformat": 4,
 "nbformat_minor": 5
}
